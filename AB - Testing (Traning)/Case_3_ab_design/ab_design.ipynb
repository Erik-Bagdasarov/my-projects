{
 "cells": [
  {
   "cell_type": "markdown",
   "metadata": {},
   "source": [
    "### Design AB testing\n",
    "\n",
    "Выявление особенностей данных. Здесь наша основная цель — составить общее представление о данных. Нет точного алгоритма, который покажет вам все нужные метрики по данным, но попробуйте отталкиваться от того, что вы хотите сделать дальше. Если вы работаете с уже знакомыми данными, то, скорее всего, для вас этот пункт не особо важен. Если же нет, можете опираться на следующие базовые вопросы:\n",
    "\n",
    "- За какой период представлены данные?\n",
    "- Какое уникальное количество каждой сущности? Какие у них распределения?\n",
    "- Если мы имеем дело с транзакциями, то какое в среднем количество покупок с каким средним чеком совершают пользователи за некоторый период времени?\n",
    "- если имеем дело с мобильными приложениями и подписками, то какой у них retention и с каким чеком?\n",
    "\n",
    "Сбор необходимых метрик. Обычно мы работаем с гипотезами, которые растят какую-то часть нашей воронки, поэтому на данном этапе мы будем её восстанавливать в разных разрезах/сегментах/когортах.\n",
    "\n",
    "Оценка возможного влияния. На этом этапе наша задача состоит в том, чтобы оценить сверху и снизу, насколько предполагаемое решение может изменить ключевую метрику. Тут можно брать значения, которые точно не вписываются в адекватную картину мира :)\n",
    "\n",
    "Подведение итогов. Здесь мы принимаем решение о том, стоит ли точно принять/отвергнуть придуманную гипотезу, либо однозначного ответа не было найдено, и надо проводить А/B-тест."
   ]
  },
  {
   "cell_type": "markdown",
   "metadata": {},
   "source": [
    "### Введение \n",
    "\n",
    "На главной странице магазина пользователям показываются баннеры, чтобы стимулировать продажи. Сейчас там отображается один из 5 возможных баннеров случайным образом. Каждый баннер рекламирует определённый продукт или всю компанию. Маркетологи магазина считают, что опыт работы с баннерами может варьироваться в зависимости от сегмента, а их эффективность может зависеть от характеристик поведения пользователя.\n",
    "\n",
    "Менеджер компании получил предложение от партнёров продать это место под баннер и рекламировать там другую компанию и их услуги. Оплата принимается по модели CPC (cost per click, то есть фиксируется цена за каждый клик).\n",
    "\n",
    "Помогите менеджеру принять верное решение на основе данных."
   ]
  },
  {
   "cell_type": "code",
   "metadata": {
    "ExecuteTime": {
     "end_time": "2024-04-16T18:41:24.344286Z",
     "start_time": "2024-04-16T18:41:24.044901Z"
    }
   },
   "source": [
    "import pandas as pd\n",
    "import numpy as np"
   ],
   "outputs": [],
   "execution_count": 1
  },
  {
   "cell_type": "code",
   "metadata": {
    "ExecuteTime": {
     "end_time": "2024-04-16T18:41:38.541146Z",
     "start_time": "2024-04-16T18:41:24.345472Z"
    }
   },
   "source": [
    "df = pd.read_csv('ab_design.csv')"
   ],
   "outputs": [],
   "execution_count": 2
  },
  {
   "cell_type": "markdown",
   "metadata": {},
   "source": [
    "### Описание данных\n",
    "\n",
    "- order_id — номер заказа\n",
    "- user_id — уникальный идентификатор покупателя\n",
    "- page_id — идентификатор страницы, где было совершено действие\n",
    "- product — что показывалось на баннере\n",
    "- site_version — версия сайта: мобильная/десктопная\n",
    "- time — время действия\n",
    "- title — вид действия (клик/показ/покупка)\n",
    "- target — была ли совершена покупка"
   ]
  },
  {
   "cell_type": "code",
   "metadata": {
    "ExecuteTime": {
     "end_time": "2024-04-16T18:41:38.562570Z",
     "start_time": "2024-04-16T18:41:38.542801Z"
    }
   },
   "source": [
    "df"
   ],
   "outputs": [
    {
     "data": {
      "text/plain": [
       "                                 order_id                           user_id  \\\n",
       "0        cfcd208495d565ef66e7dff9f98764da  c81e728d9d4c2f636f067f89cc14862c   \n",
       "1        c4ca4238a0b923820dcc509a6f75849b  eccbc87e4b5ce2fe28308fd9f2a7baf3   \n",
       "2        c81e728d9d4c2f636f067f89cc14862c  eccbc87e4b5ce2fe28308fd9f2a7baf3   \n",
       "3        eccbc87e4b5ce2fe28308fd9f2a7baf3  eccbc87e4b5ce2fe28308fd9f2a7baf3   \n",
       "4        a87ff679a2f3e71d9181a67b7542122c  eccbc87e4b5ce2fe28308fd9f2a7baf3   \n",
       "...                                   ...                               ...   \n",
       "8471215  70c275428b8d53eef294d0529253b694  59e736f90b5f8003072bf0eb271ddb86   \n",
       "8471216  94c9a2a0c11c2b88e49c13e401608c86  69d73bfcaaa83217c903627e602ae01c   \n",
       "8471217  862568e6013bc378b06f43c3e466521a  61728d26a9c9feb9e128c17b400062c8   \n",
       "8471218  7c70b42806372ba85f47a3956f23a114  f90e8c3bcf3867e65d62a2a08189a35a   \n",
       "8471219  523a4286c51e560121455fc040096ef3  4c242cc2c01c9a6cb4b6659e5263c8aa   \n",
       "\n",
       "                                  page_id           product site_version  \\\n",
       "0        6f4922f45568161a8cdf4ad2299f6d23          sneakers      desktop   \n",
       "1        4e732ced3463d06de0ca9a15b6153677          sneakers      desktop   \n",
       "2        5c45a86277b8bf17bff6011be5cfb1b9  sports_nutrition      desktop   \n",
       "3        fb339ad311d50a229e497085aad219c7           company      desktop   \n",
       "4        fb339ad311d50a229e497085aad219c7           company      desktop   \n",
       "...                                   ...               ...          ...   \n",
       "8471215  7bc3a33568d00773d5b58d6c7348bf3e       accessories      desktop   \n",
       "8471216  f236830bcbb2d279c0c7c3d7f5d3a970           clothes       mobile   \n",
       "8471217  4fc14437e418f19200e71acf4f34b3ba  sports_nutrition       mobile   \n",
       "8471218  c6a3e7758b9c0a43417c4a2c1a4504dd          sneakers       mobile   \n",
       "8471219  fa337cd9c198d70261019940f06bf7fb       accessories       mobile   \n",
       "\n",
       "                        time         title  target  \n",
       "0        2019-01-11 09:24:43  banner_click       0  \n",
       "1        2019-01-09 09:38:51   banner_show       0  \n",
       "2        2019-01-09 09:12:45   banner_show       0  \n",
       "3        2019-01-03 08:58:18   banner_show       0  \n",
       "4        2019-01-03 08:59:15  banner_click       0  \n",
       "...                      ...           ...     ...  \n",
       "8471215  2019-05-23 14:07:00   banner_show       0  \n",
       "8471216  2019-05-28 08:10:20   banner_show       0  \n",
       "8471217  2019-05-20 09:20:50   banner_show       0  \n",
       "8471218  2019-05-28 19:25:42   banner_show       0  \n",
       "8471219  2019-05-31 09:18:24   banner_show       0  \n",
       "\n",
       "[8471220 rows x 8 columns]"
      ],
      "text/html": [
       "<div>\n",
       "<style scoped>\n",
       "    .dataframe tbody tr th:only-of-type {\n",
       "        vertical-align: middle;\n",
       "    }\n",
       "\n",
       "    .dataframe tbody tr th {\n",
       "        vertical-align: top;\n",
       "    }\n",
       "\n",
       "    .dataframe thead th {\n",
       "        text-align: right;\n",
       "    }\n",
       "</style>\n",
       "<table border=\"1\" class=\"dataframe\">\n",
       "  <thead>\n",
       "    <tr style=\"text-align: right;\">\n",
       "      <th></th>\n",
       "      <th>order_id</th>\n",
       "      <th>user_id</th>\n",
       "      <th>page_id</th>\n",
       "      <th>product</th>\n",
       "      <th>site_version</th>\n",
       "      <th>time</th>\n",
       "      <th>title</th>\n",
       "      <th>target</th>\n",
       "    </tr>\n",
       "  </thead>\n",
       "  <tbody>\n",
       "    <tr>\n",
       "      <th>0</th>\n",
       "      <td>cfcd208495d565ef66e7dff9f98764da</td>\n",
       "      <td>c81e728d9d4c2f636f067f89cc14862c</td>\n",
       "      <td>6f4922f45568161a8cdf4ad2299f6d23</td>\n",
       "      <td>sneakers</td>\n",
       "      <td>desktop</td>\n",
       "      <td>2019-01-11 09:24:43</td>\n",
       "      <td>banner_click</td>\n",
       "      <td>0</td>\n",
       "    </tr>\n",
       "    <tr>\n",
       "      <th>1</th>\n",
       "      <td>c4ca4238a0b923820dcc509a6f75849b</td>\n",
       "      <td>eccbc87e4b5ce2fe28308fd9f2a7baf3</td>\n",
       "      <td>4e732ced3463d06de0ca9a15b6153677</td>\n",
       "      <td>sneakers</td>\n",
       "      <td>desktop</td>\n",
       "      <td>2019-01-09 09:38:51</td>\n",
       "      <td>banner_show</td>\n",
       "      <td>0</td>\n",
       "    </tr>\n",
       "    <tr>\n",
       "      <th>2</th>\n",
       "      <td>c81e728d9d4c2f636f067f89cc14862c</td>\n",
       "      <td>eccbc87e4b5ce2fe28308fd9f2a7baf3</td>\n",
       "      <td>5c45a86277b8bf17bff6011be5cfb1b9</td>\n",
       "      <td>sports_nutrition</td>\n",
       "      <td>desktop</td>\n",
       "      <td>2019-01-09 09:12:45</td>\n",
       "      <td>banner_show</td>\n",
       "      <td>0</td>\n",
       "    </tr>\n",
       "    <tr>\n",
       "      <th>3</th>\n",
       "      <td>eccbc87e4b5ce2fe28308fd9f2a7baf3</td>\n",
       "      <td>eccbc87e4b5ce2fe28308fd9f2a7baf3</td>\n",
       "      <td>fb339ad311d50a229e497085aad219c7</td>\n",
       "      <td>company</td>\n",
       "      <td>desktop</td>\n",
       "      <td>2019-01-03 08:58:18</td>\n",
       "      <td>banner_show</td>\n",
       "      <td>0</td>\n",
       "    </tr>\n",
       "    <tr>\n",
       "      <th>4</th>\n",
       "      <td>a87ff679a2f3e71d9181a67b7542122c</td>\n",
       "      <td>eccbc87e4b5ce2fe28308fd9f2a7baf3</td>\n",
       "      <td>fb339ad311d50a229e497085aad219c7</td>\n",
       "      <td>company</td>\n",
       "      <td>desktop</td>\n",
       "      <td>2019-01-03 08:59:15</td>\n",
       "      <td>banner_click</td>\n",
       "      <td>0</td>\n",
       "    </tr>\n",
       "    <tr>\n",
       "      <th>...</th>\n",
       "      <td>...</td>\n",
       "      <td>...</td>\n",
       "      <td>...</td>\n",
       "      <td>...</td>\n",
       "      <td>...</td>\n",
       "      <td>...</td>\n",
       "      <td>...</td>\n",
       "      <td>...</td>\n",
       "    </tr>\n",
       "    <tr>\n",
       "      <th>8471215</th>\n",
       "      <td>70c275428b8d53eef294d0529253b694</td>\n",
       "      <td>59e736f90b5f8003072bf0eb271ddb86</td>\n",
       "      <td>7bc3a33568d00773d5b58d6c7348bf3e</td>\n",
       "      <td>accessories</td>\n",
       "      <td>desktop</td>\n",
       "      <td>2019-05-23 14:07:00</td>\n",
       "      <td>banner_show</td>\n",
       "      <td>0</td>\n",
       "    </tr>\n",
       "    <tr>\n",
       "      <th>8471216</th>\n",
       "      <td>94c9a2a0c11c2b88e49c13e401608c86</td>\n",
       "      <td>69d73bfcaaa83217c903627e602ae01c</td>\n",
       "      <td>f236830bcbb2d279c0c7c3d7f5d3a970</td>\n",
       "      <td>clothes</td>\n",
       "      <td>mobile</td>\n",
       "      <td>2019-05-28 08:10:20</td>\n",
       "      <td>banner_show</td>\n",
       "      <td>0</td>\n",
       "    </tr>\n",
       "    <tr>\n",
       "      <th>8471217</th>\n",
       "      <td>862568e6013bc378b06f43c3e466521a</td>\n",
       "      <td>61728d26a9c9feb9e128c17b400062c8</td>\n",
       "      <td>4fc14437e418f19200e71acf4f34b3ba</td>\n",
       "      <td>sports_nutrition</td>\n",
       "      <td>mobile</td>\n",
       "      <td>2019-05-20 09:20:50</td>\n",
       "      <td>banner_show</td>\n",
       "      <td>0</td>\n",
       "    </tr>\n",
       "    <tr>\n",
       "      <th>8471218</th>\n",
       "      <td>7c70b42806372ba85f47a3956f23a114</td>\n",
       "      <td>f90e8c3bcf3867e65d62a2a08189a35a</td>\n",
       "      <td>c6a3e7758b9c0a43417c4a2c1a4504dd</td>\n",
       "      <td>sneakers</td>\n",
       "      <td>mobile</td>\n",
       "      <td>2019-05-28 19:25:42</td>\n",
       "      <td>banner_show</td>\n",
       "      <td>0</td>\n",
       "    </tr>\n",
       "    <tr>\n",
       "      <th>8471219</th>\n",
       "      <td>523a4286c51e560121455fc040096ef3</td>\n",
       "      <td>4c242cc2c01c9a6cb4b6659e5263c8aa</td>\n",
       "      <td>fa337cd9c198d70261019940f06bf7fb</td>\n",
       "      <td>accessories</td>\n",
       "      <td>mobile</td>\n",
       "      <td>2019-05-31 09:18:24</td>\n",
       "      <td>banner_show</td>\n",
       "      <td>0</td>\n",
       "    </tr>\n",
       "  </tbody>\n",
       "</table>\n",
       "<p>8471220 rows × 8 columns</p>\n",
       "</div>"
      ]
     },
     "execution_count": 3,
     "metadata": {},
     "output_type": "execute_result"
    }
   ],
   "execution_count": 3
  },
  {
   "cell_type": "markdown",
   "metadata": {},
   "source": [
    "### Выявление особенностей в данных\n",
    "\n",
    "Давайте посмотрим на базовые статистик по таким данным, чтобы лучше понять, как с ними работать."
   ]
  },
  {
   "cell_type": "code",
   "metadata": {
    "ExecuteTime": {
     "end_time": "2024-04-16T18:41:39.300219Z",
     "start_time": "2024-04-16T18:41:38.563605Z"
    }
   },
   "source": [
    "# Посмотрим на минимальное и максимально время\n",
    "df.time.min(), df.time.max()"
   ],
   "outputs": [
    {
     "data": {
      "text/plain": [
       "('2019-01-01 00:00:03', '2019-05-31 23:59:58')"
      ]
     },
     "execution_count": 4,
     "metadata": {},
     "output_type": "execute_result"
    }
   ],
   "execution_count": 4
  },
  {
   "cell_type": "code",
   "metadata": {
    "ExecuteTime": {
     "end_time": "2024-04-16T18:41:39.308985Z",
     "start_time": "2024-04-16T18:41:39.301958Z"
    }
   },
   "source": [
    "# Посмотрим на размер данных\n",
    "df.shape"
   ],
   "outputs": [
    {
     "data": {
      "text/plain": [
       "(8471220, 8)"
      ]
     },
     "execution_count": 5,
     "metadata": {},
     "output_type": "execute_result"
    }
   ],
   "execution_count": 5
  },
  {
   "cell_type": "code",
   "metadata": {
    "ExecuteTime": {
     "end_time": "2024-04-16T18:41:41.648232Z",
     "start_time": "2024-04-16T18:41:39.310269Z"
    }
   },
   "source": [
    "# Посмотрим на кол-во уникальных пользователей\n",
    "df.user_id.nunique()"
   ],
   "outputs": [
    {
     "data": {
      "text/plain": [
       "4254619"
      ]
     },
     "execution_count": 6,
     "metadata": {},
     "output_type": "execute_result"
    }
   ],
   "execution_count": 6
  },
  {
   "cell_type": "code",
   "metadata": {
    "ExecuteTime": {
     "end_time": "2024-04-16T18:41:48.990138Z",
     "start_time": "2024-04-16T18:41:41.649234Z"
    }
   },
   "source": [
    "# Посмотрим сколько в среднем устройств приходиться на пользователя\n",
    "df.groupby('user_id').site_version.nunique().mean()"
   ],
   "outputs": [
    {
     "data": {
      "text/plain": [
       "1.0064259572948835"
      ]
     },
     "execution_count": 7,
     "metadata": {},
     "output_type": "execute_result"
    }
   ],
   "execution_count": 7
  },
  {
   "cell_type": "code",
   "metadata": {
    "ExecuteTime": {
     "end_time": "2024-04-16T18:41:49.911813Z",
     "start_time": "2024-04-16T18:41:48.991352Z"
    }
   },
   "source": [
    "# Посмотрим на среднее кол-во чеков среди тех кто что-то купил\n",
    "df[df.title == 'order'].groupby('user_id').order_id.nunique().mean()"
   ],
   "outputs": [
    {
     "data": {
      "text/plain": [
       "1.0456391413653066"
      ]
     },
     "execution_count": 8,
     "metadata": {},
     "output_type": "execute_result"
    }
   ],
   "execution_count": 8
  },
  {
   "cell_type": "markdown",
   "metadata": {},
   "source": [
    "### Сбор необходимых метрик\n",
    "\n",
    "У нас есть гипотеза, основанная на предположениях что конверсия в покупку будет отличаться в зависимиости от того, с какого девайся заходит пользователь, и от того, какой баннер ему показываеться. Давайте это проверим, восстановив всю воронку с баннерами на сайте."
   ]
  },
  {
   "cell_type": "code",
   "metadata": {
    "ExecuteTime": {
     "end_time": "2024-04-16T18:41:54.396836Z",
     "start_time": "2024-04-16T18:41:49.912786Z"
    }
   },
   "source": [
    "new_df = {\n",
    "    'site_version': [],\n",
    "    'banner_type': [],\n",
    "    'num_shows': [],\n",
    "    'num_clicks': [],\n",
    "    'num_orders': [],\n",
    "    'conversion_show_click': [],\n",
    "    'conversion_click_order': [],\n",
    "    'conversion_show_order': []\n",
    "}\n",
    "\n",
    "for site_version, group in df.groupby('site_version'):\n",
    "    for prod, pgroup, in group.groupby('product'):\n",
    "        num_shows = pgroup[pgroup['title'] == 'banner_show'].shape[0]\n",
    "        num_clicks = pgroup[pgroup['title'] == 'banner_click'].shape[0]\n",
    "        num_orders = pgroup[pgroup['title'] == 'order'].shape[0]\n",
    "\n",
    "        new_df['site_version'].append(site_version)\n",
    "        new_df['banner_type'].append(prod)\n",
    "        new_df['num_shows'].append(num_shows)\n",
    "        new_df['num_clicks'].append(num_clicks)\n",
    "        new_df['num_orders'].append(num_orders)\n",
    "        new_df['conversion_show_click'].append(num_clicks / num_shows)\n",
    "        new_df['conversion_click_order'].append(num_orders / num_clicks)\n",
    "        new_df['conversion_show_order'].append(num_orders / num_shows)"
   ],
   "outputs": [],
   "execution_count": 9
  },
  {
   "cell_type": "markdown",
   "metadata": {},
   "source": [
    "Переводим данные в датафрейм и посмотрим на получившуюся таблицу\n",
    "\n"
   ]
  },
  {
   "cell_type": "code",
   "metadata": {
    "ExecuteTime": {
     "end_time": "2024-04-16T18:41:54.405638Z",
     "start_time": "2024-04-16T18:41:54.398408Z"
    }
   },
   "source": [
    "new_df = pd.DataFrame(new_df)\n",
    "new_df"
   ],
   "outputs": [
    {
     "data": {
      "text/plain": [
       "  site_version       banner_type  num_shows  num_clicks  num_orders  \\\n",
       "0      desktop       accessories     410003       18531       22121   \n",
       "1      desktop           clothes     418070       32781       66977   \n",
       "2      desktop           company     477374       28464           0   \n",
       "3      desktop          sneakers     411597       21419       32565   \n",
       "4      desktop  sports_nutrition     417595       13870       11518   \n",
       "5       mobile       accessories    1030951      117723       22430   \n",
       "6       mobile           clothes    1035058      187814       45738   \n",
       "7       mobile           company    1102861      116357           0   \n",
       "8       mobile          sneakers    1041430      161177       35154   \n",
       "9       mobile  sports_nutrition    1048375      131048       12219   \n",
       "\n",
       "   conversion_show_click  conversion_click_order  conversion_show_order  \n",
       "0               0.045197                1.193729               0.053953  \n",
       "1               0.078410                2.043165               0.160205  \n",
       "2               0.059626                0.000000               0.000000  \n",
       "3               0.052039                1.520379               0.079119  \n",
       "4               0.033214                0.830425               0.027582  \n",
       "5               0.114189                0.190532               0.021757  \n",
       "6               0.181453                0.243528               0.044189  \n",
       "7               0.105505                0.000000               0.000000  \n",
       "8               0.154765                0.218108               0.033756  \n",
       "9               0.125001                0.093241               0.011655  "
      ],
      "text/html": [
       "<div>\n",
       "<style scoped>\n",
       "    .dataframe tbody tr th:only-of-type {\n",
       "        vertical-align: middle;\n",
       "    }\n",
       "\n",
       "    .dataframe tbody tr th {\n",
       "        vertical-align: top;\n",
       "    }\n",
       "\n",
       "    .dataframe thead th {\n",
       "        text-align: right;\n",
       "    }\n",
       "</style>\n",
       "<table border=\"1\" class=\"dataframe\">\n",
       "  <thead>\n",
       "    <tr style=\"text-align: right;\">\n",
       "      <th></th>\n",
       "      <th>site_version</th>\n",
       "      <th>banner_type</th>\n",
       "      <th>num_shows</th>\n",
       "      <th>num_clicks</th>\n",
       "      <th>num_orders</th>\n",
       "      <th>conversion_show_click</th>\n",
       "      <th>conversion_click_order</th>\n",
       "      <th>conversion_show_order</th>\n",
       "    </tr>\n",
       "  </thead>\n",
       "  <tbody>\n",
       "    <tr>\n",
       "      <th>0</th>\n",
       "      <td>desktop</td>\n",
       "      <td>accessories</td>\n",
       "      <td>410003</td>\n",
       "      <td>18531</td>\n",
       "      <td>22121</td>\n",
       "      <td>0.045197</td>\n",
       "      <td>1.193729</td>\n",
       "      <td>0.053953</td>\n",
       "    </tr>\n",
       "    <tr>\n",
       "      <th>1</th>\n",
       "      <td>desktop</td>\n",
       "      <td>clothes</td>\n",
       "      <td>418070</td>\n",
       "      <td>32781</td>\n",
       "      <td>66977</td>\n",
       "      <td>0.078410</td>\n",
       "      <td>2.043165</td>\n",
       "      <td>0.160205</td>\n",
       "    </tr>\n",
       "    <tr>\n",
       "      <th>2</th>\n",
       "      <td>desktop</td>\n",
       "      <td>company</td>\n",
       "      <td>477374</td>\n",
       "      <td>28464</td>\n",
       "      <td>0</td>\n",
       "      <td>0.059626</td>\n",
       "      <td>0.000000</td>\n",
       "      <td>0.000000</td>\n",
       "    </tr>\n",
       "    <tr>\n",
       "      <th>3</th>\n",
       "      <td>desktop</td>\n",
       "      <td>sneakers</td>\n",
       "      <td>411597</td>\n",
       "      <td>21419</td>\n",
       "      <td>32565</td>\n",
       "      <td>0.052039</td>\n",
       "      <td>1.520379</td>\n",
       "      <td>0.079119</td>\n",
       "    </tr>\n",
       "    <tr>\n",
       "      <th>4</th>\n",
       "      <td>desktop</td>\n",
       "      <td>sports_nutrition</td>\n",
       "      <td>417595</td>\n",
       "      <td>13870</td>\n",
       "      <td>11518</td>\n",
       "      <td>0.033214</td>\n",
       "      <td>0.830425</td>\n",
       "      <td>0.027582</td>\n",
       "    </tr>\n",
       "    <tr>\n",
       "      <th>5</th>\n",
       "      <td>mobile</td>\n",
       "      <td>accessories</td>\n",
       "      <td>1030951</td>\n",
       "      <td>117723</td>\n",
       "      <td>22430</td>\n",
       "      <td>0.114189</td>\n",
       "      <td>0.190532</td>\n",
       "      <td>0.021757</td>\n",
       "    </tr>\n",
       "    <tr>\n",
       "      <th>6</th>\n",
       "      <td>mobile</td>\n",
       "      <td>clothes</td>\n",
       "      <td>1035058</td>\n",
       "      <td>187814</td>\n",
       "      <td>45738</td>\n",
       "      <td>0.181453</td>\n",
       "      <td>0.243528</td>\n",
       "      <td>0.044189</td>\n",
       "    </tr>\n",
       "    <tr>\n",
       "      <th>7</th>\n",
       "      <td>mobile</td>\n",
       "      <td>company</td>\n",
       "      <td>1102861</td>\n",
       "      <td>116357</td>\n",
       "      <td>0</td>\n",
       "      <td>0.105505</td>\n",
       "      <td>0.000000</td>\n",
       "      <td>0.000000</td>\n",
       "    </tr>\n",
       "    <tr>\n",
       "      <th>8</th>\n",
       "      <td>mobile</td>\n",
       "      <td>sneakers</td>\n",
       "      <td>1041430</td>\n",
       "      <td>161177</td>\n",
       "      <td>35154</td>\n",
       "      <td>0.154765</td>\n",
       "      <td>0.218108</td>\n",
       "      <td>0.033756</td>\n",
       "    </tr>\n",
       "    <tr>\n",
       "      <th>9</th>\n",
       "      <td>mobile</td>\n",
       "      <td>sports_nutrition</td>\n",
       "      <td>1048375</td>\n",
       "      <td>131048</td>\n",
       "      <td>12219</td>\n",
       "      <td>0.125001</td>\n",
       "      <td>0.093241</td>\n",
       "      <td>0.011655</td>\n",
       "    </tr>\n",
       "  </tbody>\n",
       "</table>\n",
       "</div>"
      ]
     },
     "execution_count": 10,
     "metadata": {},
     "output_type": "execute_result"
    }
   ],
   "execution_count": 10
  },
  {
   "cell_type": "markdown",
   "metadata": {},
   "source": [
    "### Оценка возможного влияния\n",
    "\n",
    "В силу того, что конверсии между собой отличаются, рекомендуется производить А/B-тестирование на все 10 возможных вариантов. И, если разработка и руководство допускают такой вариант, предложить заменить только некоторые — те, которые принесут больше денег.\n",
    "\n",
    "Но сначала надо посчитать потенциальную выгоду в деньгах: возможно, мы можем дать точный ответ и без тестирования.\n",
    "\n",
    "Обычно о цене за клик договариваются напрямую с заказчиком, поэтому для нас это будет просто очередной вводной для дизайна эксперимента. Давайте смоделируем наш дизайн со следующими входными данными:\n",
    "\n",
    "- Средняя цена товара — 300 рублей\n",
    "- Цена за клик — 20 рублей\n",
    "- Покупательский цикл — 7 дней"
   ]
  },
  {
   "cell_type": "code",
   "metadata": {
    "ExecuteTime": {
     "end_time": "2024-04-16T18:41:54.408183Z",
     "start_time": "2024-04-16T18:41:54.406382Z"
    }
   },
   "source": [
    "cpc = 1\n",
    "avg_prod_price = 1000"
   ],
   "outputs": [],
   "execution_count": 11
  },
  {
   "cell_type": "code",
   "metadata": {
    "ExecuteTime": {
     "end_time": "2024-04-16T18:41:54.411838Z",
     "start_time": "2024-04-16T18:41:54.408702Z"
    }
   },
   "source": [
    "new_df['cpc_now'] = new_df['num_orders'] * avg_prod_price / new_df['num_clicks']\n",
    "new_df['min_needable_cr'] = ((new_df['num_orders'] * avg_prod_price) / cpc) / new_df['num_shows']"
   ],
   "outputs": [],
   "execution_count": 12
  },
  {
   "cell_type": "markdown",
   "metadata": {},
   "source": [
    "Здесь мы смоделировали количество денег, которые приносит каждый клик сейчас, и рассчитали необходимую конверсию на новые баннеры, чтобы их обновление окупилось.\n",
    "\n",
    "Посмотрим на полученные значения:"
   ]
  },
  {
   "cell_type": "code",
   "metadata": {
    "ExecuteTime": {
     "end_time": "2024-04-16T18:41:54.416716Z",
     "start_time": "2024-04-16T18:41:54.412492Z"
    }
   },
   "source": [
    "new_df[['site_version', 'banner_type', 'cpc_now', 'min_needable_cr']]"
   ],
   "outputs": [
    {
     "data": {
      "text/plain": [
       "  site_version       banner_type      cpc_now  min_needable_cr\n",
       "0      desktop       accessories  1193.729426        53.953264\n",
       "1      desktop           clothes  2043.165248       160.205229\n",
       "2      desktop           company     0.000000         0.000000\n",
       "3      desktop          sneakers  1520.379103        79.118652\n",
       "4      desktop  sports_nutrition   830.425379        27.581748\n",
       "5       mobile       accessories   190.532012        21.756611\n",
       "6       mobile           clothes   243.528171        44.188828\n",
       "7       mobile           company     0.000000         0.000000\n",
       "8       mobile          sneakers   218.108043        33.755509\n",
       "9       mobile  sports_nutrition    93.240645        11.655181"
      ],
      "text/html": [
       "<div>\n",
       "<style scoped>\n",
       "    .dataframe tbody tr th:only-of-type {\n",
       "        vertical-align: middle;\n",
       "    }\n",
       "\n",
       "    .dataframe tbody tr th {\n",
       "        vertical-align: top;\n",
       "    }\n",
       "\n",
       "    .dataframe thead th {\n",
       "        text-align: right;\n",
       "    }\n",
       "</style>\n",
       "<table border=\"1\" class=\"dataframe\">\n",
       "  <thead>\n",
       "    <tr style=\"text-align: right;\">\n",
       "      <th></th>\n",
       "      <th>site_version</th>\n",
       "      <th>banner_type</th>\n",
       "      <th>cpc_now</th>\n",
       "      <th>min_needable_cr</th>\n",
       "    </tr>\n",
       "  </thead>\n",
       "  <tbody>\n",
       "    <tr>\n",
       "      <th>0</th>\n",
       "      <td>desktop</td>\n",
       "      <td>accessories</td>\n",
       "      <td>1193.729426</td>\n",
       "      <td>53.953264</td>\n",
       "    </tr>\n",
       "    <tr>\n",
       "      <th>1</th>\n",
       "      <td>desktop</td>\n",
       "      <td>clothes</td>\n",
       "      <td>2043.165248</td>\n",
       "      <td>160.205229</td>\n",
       "    </tr>\n",
       "    <tr>\n",
       "      <th>2</th>\n",
       "      <td>desktop</td>\n",
       "      <td>company</td>\n",
       "      <td>0.000000</td>\n",
       "      <td>0.000000</td>\n",
       "    </tr>\n",
       "    <tr>\n",
       "      <th>3</th>\n",
       "      <td>desktop</td>\n",
       "      <td>sneakers</td>\n",
       "      <td>1520.379103</td>\n",
       "      <td>79.118652</td>\n",
       "    </tr>\n",
       "    <tr>\n",
       "      <th>4</th>\n",
       "      <td>desktop</td>\n",
       "      <td>sports_nutrition</td>\n",
       "      <td>830.425379</td>\n",
       "      <td>27.581748</td>\n",
       "    </tr>\n",
       "    <tr>\n",
       "      <th>5</th>\n",
       "      <td>mobile</td>\n",
       "      <td>accessories</td>\n",
       "      <td>190.532012</td>\n",
       "      <td>21.756611</td>\n",
       "    </tr>\n",
       "    <tr>\n",
       "      <th>6</th>\n",
       "      <td>mobile</td>\n",
       "      <td>clothes</td>\n",
       "      <td>243.528171</td>\n",
       "      <td>44.188828</td>\n",
       "    </tr>\n",
       "    <tr>\n",
       "      <th>7</th>\n",
       "      <td>mobile</td>\n",
       "      <td>company</td>\n",
       "      <td>0.000000</td>\n",
       "      <td>0.000000</td>\n",
       "    </tr>\n",
       "    <tr>\n",
       "      <th>8</th>\n",
       "      <td>mobile</td>\n",
       "      <td>sneakers</td>\n",
       "      <td>218.108043</td>\n",
       "      <td>33.755509</td>\n",
       "    </tr>\n",
       "    <tr>\n",
       "      <th>9</th>\n",
       "      <td>mobile</td>\n",
       "      <td>sports_nutrition</td>\n",
       "      <td>93.240645</td>\n",
       "      <td>11.655181</td>\n",
       "    </tr>\n",
       "  </tbody>\n",
       "</table>\n",
       "</div>"
      ]
     },
     "execution_count": 13,
     "metadata": {},
     "output_type": "execute_result"
    }
   ],
   "execution_count": 13
  },
  {
   "cell_type": "markdown",
   "metadata": {},
   "source": [
    "Как мы видим, при текущей конверсии смоделированная выручка за клик почти во всех вариантах является больше. То есть предварительно можно было бы сразу отвергнуть предложение обновить баннеры при такой средней цене товара и цене за клик, потому что вряд ли мы получим конверсию выше, чем в данный момент.\n",
    "\n",
    "Более того, если бы наши вводные были следующими:\n",
    "\n",
    "- Средняя цена товара — 1000 рублей,\n",
    "- Цена за клик — 1 рубль,\n",
    "\n",
    "то необходимые значения конверсий выглядели бы так:"
   ]
  }
 ],
 "metadata": {
  "kernelspec": {
   "display_name": "Python 3",
   "language": "python",
   "name": "python3"
  },
  "language_info": {
   "codemirror_mode": {
    "name": "ipython",
    "version": 3
   },
   "file_extension": ".py",
   "mimetype": "text/x-python",
   "name": "python",
   "nbconvert_exporter": "python",
   "pygments_lexer": "ipython3",
   "version": "3.12.0"
  }
 },
 "nbformat": 4,
 "nbformat_minor": 2
}
