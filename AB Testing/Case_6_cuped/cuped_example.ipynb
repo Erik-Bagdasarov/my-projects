{
 "cells": [
  {
   "cell_type": "code",
   "metadata": {
    "ExecuteTime": {
     "end_time": "2024-04-16T17:46:56.782034Z",
     "start_time": "2024-04-16T17:46:56.469716Z"
    }
   },
   "source": [
    "import pandas as pd \n",
    "import numpy as np"
   ],
   "outputs": [],
   "execution_count": 1
  },
  {
   "cell_type": "code",
   "metadata": {
    "ExecuteTime": {
     "end_time": "2024-04-16T17:46:56.786151Z",
     "start_time": "2024-04-16T17:46:56.783246Z"
    }
   },
   "source": [
    "exmaple = pd.DataFrame({\n",
    "    'group':['t', 'c', 't', 'c', 't', 'c'],\n",
    "    'covariate':[1500, 1300, 1600, 1400, 1200, 1000],\n",
    "    'metric': [1700, 1200, 2000, 1500, 1200, 1100]\n",
    "})"
   ],
   "outputs": [],
   "execution_count": 2
  },
  {
   "cell_type": "code",
   "metadata": {
    "ExecuteTime": {
     "end_time": "2024-04-16T17:46:56.790303Z",
     "start_time": "2024-04-16T17:46:56.787194Z"
    }
   },
   "source": [
    "thetta = np.cov(exmaple['metric'], exmaple['covariate'])[0][1] / np.var(exmaple['covariate'])"
   ],
   "outputs": [],
   "execution_count": 3
  },
  {
   "cell_type": "code",
   "metadata": {
    "ExecuteTime": {
     "end_time": "2024-04-16T17:46:56.795980Z",
     "start_time": "2024-04-16T17:46:56.792646Z"
    }
   },
   "source": [
    "thetta"
   ],
   "outputs": [
    {
     "data": {
      "text/plain": [
       "1.7999999999999998"
      ]
     },
     "execution_count": 4,
     "metadata": {},
     "output_type": "execute_result"
    }
   ],
   "execution_count": 4
  },
  {
   "cell_type": "code",
   "metadata": {
    "ExecuteTime": {
     "end_time": "2024-04-16T17:46:56.798631Z",
     "start_time": "2024-04-16T17:46:56.796620Z"
    }
   },
   "source": [
    "exmaple['cuped'] = exmaple['metric'] - exmaple['covariate'] - exmaple['covariate'].mean() * thetta"
   ],
   "outputs": [],
   "execution_count": 5
  },
  {
   "cell_type": "code",
   "metadata": {
    "ExecuteTime": {
     "end_time": "2024-04-16T17:46:56.803906Z",
     "start_time": "2024-04-16T17:46:56.799438Z"
    }
   },
   "source": [
    "exmaple.groupby('group').cuped.mean()"
   ],
   "outputs": [
    {
     "data": {
      "text/plain": [
       "group\n",
       "c   -2366.666667\n",
       "t   -2200.000000\n",
       "Name: cuped, dtype: float64"
      ]
     },
     "execution_count": 6,
     "metadata": {},
     "output_type": "execute_result"
    }
   ],
   "execution_count": 6
  },
  {
   "cell_type": "code",
   "metadata": {
    "ExecuteTime": {
     "end_time": "2024-04-16T17:46:56.809913Z",
     "start_time": "2024-04-16T17:46:56.804782Z"
    }
   },
   "source": [
    "df = pd.read_csv('cuped_example.csv')"
   ],
   "outputs": [],
   "execution_count": 7
  },
  {
   "cell_type": "code",
   "metadata": {
    "ExecuteTime": {
     "end_time": "2024-04-16T17:46:56.815534Z",
     "start_time": "2024-04-16T17:46:56.810614Z"
    }
   },
   "source": [
    "df"
   ],
   "outputs": [
    {
     "data": {
      "text/plain": [
       "      group  covariate  metric\n",
       "0      test       1500    1700\n",
       "1   control       1300    1200\n",
       "2      test       1600    2000\n",
       "3   control       1400    1500\n",
       "4      test       1200    1200\n",
       "5   control       1000    1100\n",
       "6      test       1500    2000\n",
       "7   control       1300    1500\n",
       "8      test       1600    1200\n",
       "9   control       1400    1100\n",
       "10     test       1200    1200\n",
       "11  control       1000    1000"
      ],
      "text/html": [
       "<div>\n",
       "<style scoped>\n",
       "    .dataframe tbody tr th:only-of-type {\n",
       "        vertical-align: middle;\n",
       "    }\n",
       "\n",
       "    .dataframe tbody tr th {\n",
       "        vertical-align: top;\n",
       "    }\n",
       "\n",
       "    .dataframe thead th {\n",
       "        text-align: right;\n",
       "    }\n",
       "</style>\n",
       "<table border=\"1\" class=\"dataframe\">\n",
       "  <thead>\n",
       "    <tr style=\"text-align: right;\">\n",
       "      <th></th>\n",
       "      <th>group</th>\n",
       "      <th>covariate</th>\n",
       "      <th>metric</th>\n",
       "    </tr>\n",
       "  </thead>\n",
       "  <tbody>\n",
       "    <tr>\n",
       "      <th>0</th>\n",
       "      <td>test</td>\n",
       "      <td>1500</td>\n",
       "      <td>1700</td>\n",
       "    </tr>\n",
       "    <tr>\n",
       "      <th>1</th>\n",
       "      <td>control</td>\n",
       "      <td>1300</td>\n",
       "      <td>1200</td>\n",
       "    </tr>\n",
       "    <tr>\n",
       "      <th>2</th>\n",
       "      <td>test</td>\n",
       "      <td>1600</td>\n",
       "      <td>2000</td>\n",
       "    </tr>\n",
       "    <tr>\n",
       "      <th>3</th>\n",
       "      <td>control</td>\n",
       "      <td>1400</td>\n",
       "      <td>1500</td>\n",
       "    </tr>\n",
       "    <tr>\n",
       "      <th>4</th>\n",
       "      <td>test</td>\n",
       "      <td>1200</td>\n",
       "      <td>1200</td>\n",
       "    </tr>\n",
       "    <tr>\n",
       "      <th>5</th>\n",
       "      <td>control</td>\n",
       "      <td>1000</td>\n",
       "      <td>1100</td>\n",
       "    </tr>\n",
       "    <tr>\n",
       "      <th>6</th>\n",
       "      <td>test</td>\n",
       "      <td>1500</td>\n",
       "      <td>2000</td>\n",
       "    </tr>\n",
       "    <tr>\n",
       "      <th>7</th>\n",
       "      <td>control</td>\n",
       "      <td>1300</td>\n",
       "      <td>1500</td>\n",
       "    </tr>\n",
       "    <tr>\n",
       "      <th>8</th>\n",
       "      <td>test</td>\n",
       "      <td>1600</td>\n",
       "      <td>1200</td>\n",
       "    </tr>\n",
       "    <tr>\n",
       "      <th>9</th>\n",
       "      <td>control</td>\n",
       "      <td>1400</td>\n",
       "      <td>1100</td>\n",
       "    </tr>\n",
       "    <tr>\n",
       "      <th>10</th>\n",
       "      <td>test</td>\n",
       "      <td>1200</td>\n",
       "      <td>1200</td>\n",
       "    </tr>\n",
       "    <tr>\n",
       "      <th>11</th>\n",
       "      <td>control</td>\n",
       "      <td>1000</td>\n",
       "      <td>1000</td>\n",
       "    </tr>\n",
       "  </tbody>\n",
       "</table>\n",
       "</div>"
      ]
     },
     "execution_count": 8,
     "metadata": {},
     "output_type": "execute_result"
    }
   ],
   "execution_count": 8
  },
  {
   "cell_type": "code",
   "metadata": {
    "ExecuteTime": {
     "end_time": "2024-04-16T17:46:56.818222Z",
     "start_time": "2024-04-16T17:46:56.816325Z"
    }
   },
   "source": [
    "df_2 = np.cov(df['metric'], df['covariate'])[0][1] / np.var(df['covariate'])"
   ],
   "outputs": [],
   "execution_count": 9
  },
  {
   "cell_type": "code",
   "metadata": {
    "ExecuteTime": {
     "end_time": "2024-04-16T17:46:56.822417Z",
     "start_time": "2024-04-16T17:46:56.820294Z"
    }
   },
   "source": [
    "df_2"
   ],
   "outputs": [
    {
     "data": {
      "text/plain": [
       "1.246753246753247"
      ]
     },
     "execution_count": 10,
     "metadata": {},
     "output_type": "execute_result"
    }
   ],
   "execution_count": 10
  },
  {
   "cell_type": "code",
   "metadata": {
    "ExecuteTime": {
     "end_time": "2024-04-16T17:46:56.824324Z",
     "start_time": "2024-04-16T17:46:56.823074Z"
    }
   },
   "source": [],
   "outputs": [],
   "execution_count": 10
  }
 ],
 "metadata": {
  "kernelspec": {
   "display_name": "Python 3",
   "language": "python",
   "name": "python3"
  },
  "language_info": {
   "codemirror_mode": {
    "name": "ipython",
    "version": 3
   },
   "file_extension": ".py",
   "mimetype": "text/x-python",
   "name": "python",
   "nbconvert_exporter": "python",
   "pygments_lexer": "ipython3",
   "version": "3.12.1"
  }
 },
 "nbformat": 4,
 "nbformat_minor": 2
}
