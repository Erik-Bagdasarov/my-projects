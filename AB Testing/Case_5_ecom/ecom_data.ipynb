{
 "cells": [
  {
   "cell_type": "markdown",
   "metadata": {},
   "source": [
    "### Дано\n",
    "Топ-менеджеры компании узнали от коллег индустрии, насколько круто работает динамическое ценообразование, и решили тоже провести такой эксперимент. Иными словами, они поставили себе задачу сделать такой модуль на основе машинного обучения, который бы показывал разным пользователям разные цены на одни и те же товары с целью увеличения среднего чека. Наняли команду data science специалистов, которая разработала алгоритм и провела А/B-тестирование.\n",
    "\n",
    "### Задача\n",
    "Ваша задача — помочь менеджерам сделать вывод об успешности эксперимента и дать максимальное количество данных для принятия решения о том, стоит ли дальше развивать алгоритм и сколько ресурсов можно на это выделить."
   ]
  },
  {
   "cell_type": "code",
   "metadata": {
    "ExecuteTime": {
     "end_time": "2024-04-16T18:45:14.216441Z",
     "start_time": "2024-04-16T18:45:13.915426Z"
    }
   },
   "source": [
    "import pandas as pd\n",
    "import numpy as np"
   ],
   "outputs": [],
   "execution_count": 1
  },
  {
   "cell_type": "markdown",
   "metadata": {},
   "source": [
    "Изучаем данные"
   ]
  },
  {
   "cell_type": "code",
   "metadata": {
    "ExecuteTime": {
     "end_time": "2024-04-16T18:45:14.593637Z",
     "start_time": "2024-04-16T18:45:14.217760Z"
    }
   },
   "source": [
    "df = pd.read_csv('ecom_data.csv')"
   ],
   "outputs": [],
   "execution_count": 2
  },
  {
   "cell_type": "markdown",
   "metadata": {},
   "source": [
    "Описание колонок:\n",
    "- InvoiceNo — идентификатор чека.\n",
    "- StockCode — идентификатор товара.\n",
    "- Description — описание товара.\n",
    "- Quantity — количество товара в чеке.\n",
    "- InvoiceDate — дата покупки.\n",
    "- UnitPrice — стоимость товара в чеке.\n",
    "- CustomerID — идентификатор пользователя.\n",
    "- Country — страна."
   ]
  },
  {
   "cell_type": "code",
   "metadata": {
    "ExecuteTime": {
     "end_time": "2024-04-16T18:45:14.602633Z",
     "start_time": "2024-04-16T18:45:14.594565Z"
    }
   },
   "source": [
    "df"
   ],
   "outputs": [
    {
     "data": {
      "text/plain": [
       "       InvoiceNo StockCode                          Description  Quantity  \\\n",
       "0         536365    85123A   WHITE HANGING HEART T-LIGHT HOLDER         6   \n",
       "1         536365     71053                  WHITE METAL LANTERN         6   \n",
       "2         536365    84406B       CREAM CUPID HEARTS COAT HANGER         8   \n",
       "3         536365    84029G  KNITTED UNION FLAG HOT WATER BOTTLE         6   \n",
       "4         536365    84029E       RED WOOLLY HOTTIE WHITE HEART.         6   \n",
       "...          ...       ...                                  ...       ...   \n",
       "541904    581587     22613          PACK OF 20 SPACEBOY NAPKINS        12   \n",
       "541905    581587     22899         CHILDREN'S APRON DOLLY GIRL          6   \n",
       "541906    581587     23254        CHILDRENS CUTLERY DOLLY GIRL          4   \n",
       "541907    581587     23255      CHILDRENS CUTLERY CIRCUS PARADE         4   \n",
       "541908    581587     22138        BAKING SET 9 PIECE RETROSPOT          3   \n",
       "\n",
       "            InvoiceDate  UnitPrice  CustomerID         Country GroupType  \n",
       "0        12/1/2010 8:26       2.55     17850.0  United Kingdom   control  \n",
       "1        12/1/2010 8:26       3.39     17850.0  United Kingdom   control  \n",
       "2        12/1/2010 8:26       2.75     17850.0  United Kingdom   control  \n",
       "3        12/1/2010 8:26       3.39     17850.0  United Kingdom   control  \n",
       "4        12/1/2010 8:26       3.39     17850.0  United Kingdom   control  \n",
       "...                 ...        ...         ...             ...       ...  \n",
       "541904  12/9/2011 12:50       0.85     12680.0          France   control  \n",
       "541905  12/9/2011 12:50       2.10     12680.0          France   control  \n",
       "541906  12/9/2011 12:50       4.15     12680.0          France   control  \n",
       "541907  12/9/2011 12:50       4.15     12680.0          France   control  \n",
       "541908  12/9/2011 12:50       4.95     12680.0          France   control  \n",
       "\n",
       "[541909 rows x 9 columns]"
      ],
      "text/html": [
       "<div>\n",
       "<style scoped>\n",
       "    .dataframe tbody tr th:only-of-type {\n",
       "        vertical-align: middle;\n",
       "    }\n",
       "\n",
       "    .dataframe tbody tr th {\n",
       "        vertical-align: top;\n",
       "    }\n",
       "\n",
       "    .dataframe thead th {\n",
       "        text-align: right;\n",
       "    }\n",
       "</style>\n",
       "<table border=\"1\" class=\"dataframe\">\n",
       "  <thead>\n",
       "    <tr style=\"text-align: right;\">\n",
       "      <th></th>\n",
       "      <th>InvoiceNo</th>\n",
       "      <th>StockCode</th>\n",
       "      <th>Description</th>\n",
       "      <th>Quantity</th>\n",
       "      <th>InvoiceDate</th>\n",
       "      <th>UnitPrice</th>\n",
       "      <th>CustomerID</th>\n",
       "      <th>Country</th>\n",
       "      <th>GroupType</th>\n",
       "    </tr>\n",
       "  </thead>\n",
       "  <tbody>\n",
       "    <tr>\n",
       "      <th>0</th>\n",
       "      <td>536365</td>\n",
       "      <td>85123A</td>\n",
       "      <td>WHITE HANGING HEART T-LIGHT HOLDER</td>\n",
       "      <td>6</td>\n",
       "      <td>12/1/2010 8:26</td>\n",
       "      <td>2.55</td>\n",
       "      <td>17850.0</td>\n",
       "      <td>United Kingdom</td>\n",
       "      <td>control</td>\n",
       "    </tr>\n",
       "    <tr>\n",
       "      <th>1</th>\n",
       "      <td>536365</td>\n",
       "      <td>71053</td>\n",
       "      <td>WHITE METAL LANTERN</td>\n",
       "      <td>6</td>\n",
       "      <td>12/1/2010 8:26</td>\n",
       "      <td>3.39</td>\n",
       "      <td>17850.0</td>\n",
       "      <td>United Kingdom</td>\n",
       "      <td>control</td>\n",
       "    </tr>\n",
       "    <tr>\n",
       "      <th>2</th>\n",
       "      <td>536365</td>\n",
       "      <td>84406B</td>\n",
       "      <td>CREAM CUPID HEARTS COAT HANGER</td>\n",
       "      <td>8</td>\n",
       "      <td>12/1/2010 8:26</td>\n",
       "      <td>2.75</td>\n",
       "      <td>17850.0</td>\n",
       "      <td>United Kingdom</td>\n",
       "      <td>control</td>\n",
       "    </tr>\n",
       "    <tr>\n",
       "      <th>3</th>\n",
       "      <td>536365</td>\n",
       "      <td>84029G</td>\n",
       "      <td>KNITTED UNION FLAG HOT WATER BOTTLE</td>\n",
       "      <td>6</td>\n",
       "      <td>12/1/2010 8:26</td>\n",
       "      <td>3.39</td>\n",
       "      <td>17850.0</td>\n",
       "      <td>United Kingdom</td>\n",
       "      <td>control</td>\n",
       "    </tr>\n",
       "    <tr>\n",
       "      <th>4</th>\n",
       "      <td>536365</td>\n",
       "      <td>84029E</td>\n",
       "      <td>RED WOOLLY HOTTIE WHITE HEART.</td>\n",
       "      <td>6</td>\n",
       "      <td>12/1/2010 8:26</td>\n",
       "      <td>3.39</td>\n",
       "      <td>17850.0</td>\n",
       "      <td>United Kingdom</td>\n",
       "      <td>control</td>\n",
       "    </tr>\n",
       "    <tr>\n",
       "      <th>...</th>\n",
       "      <td>...</td>\n",
       "      <td>...</td>\n",
       "      <td>...</td>\n",
       "      <td>...</td>\n",
       "      <td>...</td>\n",
       "      <td>...</td>\n",
       "      <td>...</td>\n",
       "      <td>...</td>\n",
       "      <td>...</td>\n",
       "    </tr>\n",
       "    <tr>\n",
       "      <th>541904</th>\n",
       "      <td>581587</td>\n",
       "      <td>22613</td>\n",
       "      <td>PACK OF 20 SPACEBOY NAPKINS</td>\n",
       "      <td>12</td>\n",
       "      <td>12/9/2011 12:50</td>\n",
       "      <td>0.85</td>\n",
       "      <td>12680.0</td>\n",
       "      <td>France</td>\n",
       "      <td>control</td>\n",
       "    </tr>\n",
       "    <tr>\n",
       "      <th>541905</th>\n",
       "      <td>581587</td>\n",
       "      <td>22899</td>\n",
       "      <td>CHILDREN'S APRON DOLLY GIRL</td>\n",
       "      <td>6</td>\n",
       "      <td>12/9/2011 12:50</td>\n",
       "      <td>2.10</td>\n",
       "      <td>12680.0</td>\n",
       "      <td>France</td>\n",
       "      <td>control</td>\n",
       "    </tr>\n",
       "    <tr>\n",
       "      <th>541906</th>\n",
       "      <td>581587</td>\n",
       "      <td>23254</td>\n",
       "      <td>CHILDRENS CUTLERY DOLLY GIRL</td>\n",
       "      <td>4</td>\n",
       "      <td>12/9/2011 12:50</td>\n",
       "      <td>4.15</td>\n",
       "      <td>12680.0</td>\n",
       "      <td>France</td>\n",
       "      <td>control</td>\n",
       "    </tr>\n",
       "    <tr>\n",
       "      <th>541907</th>\n",
       "      <td>581587</td>\n",
       "      <td>23255</td>\n",
       "      <td>CHILDRENS CUTLERY CIRCUS PARADE</td>\n",
       "      <td>4</td>\n",
       "      <td>12/9/2011 12:50</td>\n",
       "      <td>4.15</td>\n",
       "      <td>12680.0</td>\n",
       "      <td>France</td>\n",
       "      <td>control</td>\n",
       "    </tr>\n",
       "    <tr>\n",
       "      <th>541908</th>\n",
       "      <td>581587</td>\n",
       "      <td>22138</td>\n",
       "      <td>BAKING SET 9 PIECE RETROSPOT</td>\n",
       "      <td>3</td>\n",
       "      <td>12/9/2011 12:50</td>\n",
       "      <td>4.95</td>\n",
       "      <td>12680.0</td>\n",
       "      <td>France</td>\n",
       "      <td>control</td>\n",
       "    </tr>\n",
       "  </tbody>\n",
       "</table>\n",
       "<p>541909 rows × 9 columns</p>\n",
       "</div>"
      ]
     },
     "execution_count": 3,
     "metadata": {},
     "output_type": "execute_result"
    }
   ],
   "execution_count": 3
  },
  {
   "cell_type": "code",
   "metadata": {
    "ExecuteTime": {
     "end_time": "2024-04-16T18:45:14.608757Z",
     "start_time": "2024-04-16T18:45:14.603268Z"
    }
   },
   "source": [
    "df.CustomerID.nunique()"
   ],
   "outputs": [
    {
     "data": {
      "text/plain": [
       "4372"
      ]
     },
     "execution_count": 4,
     "metadata": {},
     "output_type": "execute_result"
    }
   ],
   "execution_count": 4
  },
  {
   "cell_type": "markdown",
   "metadata": {},
   "source": [
    "Изучаем ключевые метрики:\n",
    "Так как мы будем сравнивать средний чек, давайте посмотрим на его расперделение"
   ]
  },
  {
   "cell_type": "code",
   "metadata": {
    "ExecuteTime": {
     "end_time": "2024-04-16T18:45:14.957291Z",
     "start_time": "2024-04-16T18:45:14.610179Z"
    }
   },
   "source": [
    "df.groupby('InvoiceNo').UnitPrice.sum().hist(bins=100)"
   ],
   "outputs": [
    {
     "data": {
      "text/plain": [
       "<Axes: >"
      ]
     },
     "execution_count": 5,
     "metadata": {},
     "output_type": "execute_result"
    },
    {
     "data": {
      "text/plain": [
       "<Figure size 640x480 with 1 Axes>"
      ],
      "image/png": "[encoded data removed]"
     },
     "metadata": {},
     "output_type": "display_data"
    }
   ],
   "execution_count": 5
  },
  {
   "cell_type": "markdown",
   "metadata": {},
   "source": [
    "Как и предполагалось, оно не очень похоже на нормальное. Дополнительно можно заметить, что тут присутствуют отрицательные значения — это возвраты товаров. Давайте их удалим:"
   ]
  },
  {
   "cell_type": "code",
   "metadata": {
    "ExecuteTime": {
     "end_time": "2024-04-16T18:45:15.098397Z",
     "start_time": "2024-04-16T18:45:14.957976Z"
    }
   },
   "source": [
    "df = df[df['UnitPrice'] > 0]\n",
    "df.groupby('InvoiceNo').UnitPrice.sum().hist(bins=100)"
   ],
   "outputs": [
    {
     "data": {
      "text/plain": [
       "<Axes: >"
      ]
     },
     "execution_count": 6,
     "metadata": {},
     "output_type": "execute_result"
    },
    {
     "data": {
      "text/plain": [
       "<Figure size 640x480 with 1 Axes>"
      ],
      "image/png": "[encoded data removed]"
     },
     "metadata": {},
     "output_type": "display_data"
    }
   ],
   "execution_count": 6
  },
  {
   "cell_type": "markdown",
   "metadata": {},
   "source": [
    "Так уже лучше! Теперь мы можем протестировать разные подходы с трансформацией данных."
   ]
  },
  {
   "cell_type": "markdown",
   "metadata": {},
   "source": "_______"
  },
  {
   "cell_type": "markdown",
   "metadata": {},
   "source": [
    "#### Логарифмирование данных"
   ]
  },
  {
   "cell_type": "markdown",
   "metadata": {},
   "source": [
    "Тестирование подхода с логарифмированием\n",
    "Начнём с самого простого — с логарифмирования. Для этого можем сначала посмотреть, как выглядит трансформированное распределение"
   ]
  },
  {
   "cell_type": "code",
   "metadata": {
    "ExecuteTime": {
     "end_time": "2024-04-16T18:45:15.101666Z",
     "start_time": "2024-04-16T18:45:15.099159Z"
    }
   },
   "source": [
    "from matplotlib import pyplot"
   ],
   "outputs": [],
   "execution_count": 7
  },
  {
   "cell_type": "code",
   "metadata": {
    "ExecuteTime": {
     "end_time": "2024-04-16T18:45:15.147969Z",
     "start_time": "2024-04-16T18:45:15.102323Z"
    }
   },
   "source": [
    "long_means_bills = df.groupby('InvoiceNo').UnitPrice.sum().apply(lambda x: np.log(x)).values.tolist()"
   ],
   "outputs": [],
   "execution_count": 8
  },
  {
   "cell_type": "code",
   "metadata": {
    "ExecuteTime": {
     "end_time": "2024-04-16T18:45:15.251464Z",
     "start_time": "2024-04-16T18:45:15.149612Z"
    }
   },
   "source": [
    "pyplot.hist(long_means_bills, bins=100)\n",
    "pyplot.show()"
   ],
   "outputs": [
    {
     "data": {
      "text/plain": [
       "<Figure size 640x480 with 1 Axes>"
      ],
      "image/png": "[encoded data removed]"
     },
     "metadata": {},
     "output_type": "display_data"
    }
   ],
   "execution_count": 9
  },
  {
   "cell_type": "markdown",
   "metadata": {},
   "source": [
    "Тоже не очень похоже на нормальное, но давайте на всякий случай проверим с помощью теста Шапиро-Уилка:"
   ]
  },
  {
   "cell_type": "code",
   "metadata": {
    "ExecuteTime": {
     "end_time": "2024-04-16T18:45:15.689680Z",
     "start_time": "2024-04-16T18:45:15.252291Z"
    }
   },
   "source": [
    "from scipy.stats import shapiro\n",
    "\n",
    "stat, p_val = shapiro(long_means_bills)\n",
    "print(f'p-value: {p_val}')"
   ],
   "outputs": [
    {
     "name": "stdout",
     "output_type": "stream",
     "text": [
      "p-value: 3.2127012716125045e-42\n"
     ]
    },
    {
     "name": "stderr",
     "output_type": "stream",
     "text": [
      "/Users/erikbagdasarov/PycharmProjects/Traning/.venv/lib/python3.12/site-packages/scipy/stats/_axis_nan_policy.py:531: UserWarning: scipy.stats.shapiro: For N > 5000, computed p-value may not be accurate. Current N is 23796.\n",
      "  res = hypotest_fun_out(*samples, **kwds)\n"
     ]
    }
   ],
   "execution_count": 10
  },
  {
   "cell_type": "markdown",
   "metadata": {},
   "source": [
    "Действительно, p-value сильно ниже 0.05, поэтому логарифмирование не помогло."
   ]
  },
  {
   "cell_type": "markdown",
   "metadata": {},
   "source": [
    "_______"
   ]
  },
  {
   "cell_type": "markdown",
   "metadata": {},
   "source": [
    "#### Бокс-Кокс Тестирование преобразования "
   ]
  },
  {
   "cell_type": "markdown",
   "metadata": {},
   "source": [
    "Применим более мощный способ с трансформацией Бокса-Кокса:"
   ]
  },
  {
   "cell_type": "code",
   "metadata": {
    "ExecuteTime": {
     "end_time": "2024-04-16T18:45:15.836495Z",
     "start_time": "2024-04-16T18:45:15.691234Z"
    }
   },
   "source": [
    "from scipy.stats import boxcox\n",
    "\n",
    "boxcox_mean_bills, fitted_lambda = boxcox(df.groupby('InvoiceNo').UnitPrice.sum().values.tolist())\n",
    "\n",
    "pyplot.hist(boxcox_mean_bills, bins=100)\n",
    "pyplot.show()"
   ],
   "outputs": [
    {
     "data": {
      "text/plain": [
       "<Figure size 640x480 with 1 Axes>"
      ],
      "image/png": "[encoded data removed]"
     },
     "metadata": {},
     "output_type": "display_data"
    }
   ],
   "execution_count": 11
  },
  {
   "cell_type": "code",
   "metadata": {
    "ExecuteTime": {
     "end_time": "2024-04-16T18:45:15.841396Z",
     "start_time": "2024-04-16T18:45:15.837456Z"
    }
   },
   "source": [
    "stats, p_val = shapiro(boxcox_mean_bills)\n",
    "print(f'p-value: {p_val}')"
   ],
   "outputs": [
    {
     "name": "stdout",
     "output_type": "stream",
     "text": [
      "p-value: 6.8293153946766e-41\n"
     ]
    },
    {
     "name": "stderr",
     "output_type": "stream",
     "text": [
      "/Users/erikbagdasarov/PycharmProjects/Traning/.venv/lib/python3.12/site-packages/scipy/stats/_axis_nan_policy.py:531: UserWarning: scipy.stats.shapiro: For N > 5000, computed p-value may not be accurate. Current N is 23796.\n",
      "  res = hypotest_fun_out(*samples, **kwds)\n"
     ]
    }
   ],
   "execution_count": 12
  },
  {
   "cell_type": "markdown",
   "metadata": {},
   "source": [
    "p-value немного выросло, но недостаточно, чтобы мы могли назвать такое распределение нормальным."
   ]
  },
  {
   "cell_type": "markdown",
   "metadata": {},
   "source": [
    "_______"
   ]
  },
  {
   "cell_type": "markdown",
   "metadata": {},
   "source": [
    "#### Бутстрэп-сэмплирования"
   ]
  },
  {
   "cell_type": "markdown",
   "metadata": {},
   "source": [
    "Тогда проверим гипотезу о разности среднего чека по группам через бутстрэп-сэмплирование:"
   ]
  },
  {
   "cell_type": "code",
   "metadata": {
    "ExecuteTime": {
     "end_time": "2024-04-16T18:45:15.959665Z",
     "start_time": "2024-04-16T18:45:15.842138Z"
    }
   },
   "source": [
    "from tqdm.notebook import tqdm"
   ],
   "outputs": [
    {
     "ename": "ModuleNotFoundError",
     "evalue": "No module named 'tqdm'",
     "output_type": "error",
     "traceback": [
      "\u001B[0;31m---------------------------------------------------------------------------\u001B[0m",
      "\u001B[0;31mModuleNotFoundError\u001B[0m                       Traceback (most recent call last)",
      "Cell \u001B[0;32mIn[13], line 1\u001B[0m\n\u001B[0;32m----> 1\u001B[0m \u001B[38;5;28;01mfrom\u001B[39;00m \u001B[38;5;21;01mtqdm\u001B[39;00m\u001B[38;5;21;01m.\u001B[39;00m\u001B[38;5;21;01mnotebook\u001B[39;00m \u001B[38;5;28;01mimport\u001B[39;00m tqdm\n",
      "\u001B[0;31mModuleNotFoundError\u001B[0m: No module named 'tqdm'"
     ]
    }
   ],
   "execution_count": 13
  },
  {
   "cell_type": "markdown",
   "metadata": {},
   "source": [
    "Создалим списки с отфильтрованными данными по группам"
   ]
  },
  {
   "cell_type": "code",
   "metadata": {
    "ExecuteTime": {
     "end_time": "2024-04-16T18:45:15.960818Z",
     "start_time": "2024-04-16T18:45:15.960743Z"
    }
   },
   "source": [
    "control_values = df[df['GroupType'] == 'control'].groupby('InvoiceNo').UnitPrice.sum().values.tolist()\n",
    "test_values = df[df['GroupType'] == 'test'].groupby('InvoiceNo').UnitPrice.sum().values.tolist()"
   ],
   "outputs": [],
   "execution_count": null
  },
  {
   "cell_type": "markdown",
   "metadata": {},
   "source": [
    "Применяем bootstrap-сэмплирование"
   ]
  },
  {
   "cell_type": "code",
   "metadata": {},
   "source": [
    "sample_mean_control = []\n",
    "sample_mean_test = []\n",
    "\n",
    "for i in tqdm(range(10000)):\n",
    "    sample_n = np.random.choice(control_values, size=300)\n",
    "    sample_mean_control.append(sample_n.mean())\n",
    "\n",
    "    sample_n = np.random.choice(test_values, size=300)\n",
    "    sample_mean_test.append(sample_n.mean())"
   ],
   "outputs": [],
   "execution_count": null
  },
  {
   "cell_type": "markdown",
   "metadata": {},
   "source": [
    "Посмотрим на получившиеся распределения"
   ]
  },
  {
   "cell_type": "code",
   "metadata": {},
   "source": [
    "pyplot.hist(sample_mean_control, bins=100, alpha=0.7)\n",
    "pyplot.hist(sample_mean_test, bins=100, alpha=0.7)\n",
    "pyplot.show()"
   ],
   "outputs": [],
   "execution_count": null
  },
  {
   "cell_type": "markdown",
   "metadata": {},
   "source": [
    "Заметно, что распределения разные, и тестовое явно находится правее контрольного. То есть матожидание точно выше.\n",
    "\n",
    "Давайте посмотрим на квантили по каждому из распределений и узнать, является ли разница статистически значимой. Для этого обратим внимание на 95 перцентиль у контрольной группы (рыжая на графике) и 5 перцентиль у тестовой группы (синяя на графике). Если первое значение будет меньше второго, значит, пересечение этих распределений меньше 5% и разность между ними статистически значимая."
   ]
  },
  {
   "cell_type": "code",
   "metadata": {},
   "source": [
    "print(f'Control 95% precentile: {np.percentile(sample_mean_control, 95)}')\n",
    "print(f'Test 5% precentile: {np.percentile(sample_mean_test, 5)}')"
   ],
   "outputs": [],
   "execution_count": null
  },
  {
   "cell_type": "markdown",
   "metadata": {},
   "source": [
    "Действительно, 95 перцентиль контрольного распределения меньше, чем 5 перцентиль тестового. Следовательно, мы можем отвергнуть нулевую гипотезу о том, что средний чек между группами равен. Поэтому наш эксперимент можно считать успешным!"
   ]
  },
  {
   "cell_type": "markdown",
   "metadata": {},
   "source": [
    "_______"
   ]
  },
  {
   "cell_type": "markdown",
   "metadata": {},
   "source": [
    "#### Построение доверительного интервала с помощью бутстрэп-сэмплирования"
   ]
  },
  {
   "cell_type": "markdown",
   "metadata": {},
   "source": [
    "И так эксперемент успешен и теперь можно просчитать, на какой прирост стоит рассчитывать после применения динамического цеообразования для всей аудитории. \n",
    "\n",
    "Это в дальнейшем позволит менеджерам оценить экономическую эффективность разработки и потенциальные решения о выделении дополнительных ресурсов на улучшение алгоритмов ценообразования.\n",
    "\n",
    "Для этого нам необходимо рассчитать доверительный интервал прироста среднего чека на покупателя. И это мы тоже можем сделать с помощью бутстрэп-сэмплирования. Проводим ровно ту же операцию 10000 раз, только теперь записываем отношение среднего на каждом шаге сэмплирования."
   ]
  },
  {
   "cell_type": "code",
   "metadata": {},
   "source": [
    "sample_mean_ratio = []\n",
    "\n",
    "for i in tqdm(range(10000)):\n",
    "    sample_test = np.random.choice(test_values, size=300)\n",
    "    sample_control = np.random.choice(control_values, size=300)\n",
    "\n",
    "    sample_mean_ratio.append(sample_test.mean() / sample_control.mean())"
   ],
   "outputs": [],
   "execution_count": null
  },
  {
   "cell_type": "markdown",
   "metadata": {},
   "source": [
    "Далее увидим следующий график"
   ]
  },
  {
   "cell_type": "code",
   "metadata": {},
   "source": [
    "pyplot.hist(sample_mean_ratio, bins=100)\n",
    "pyplot.show()"
   ],
   "outputs": [],
   "execution_count": null
  },
  {
   "cell_type": "markdown",
   "metadata": {},
   "source": [
    "Это распределение вероятности прироста среднего чека. Давайте теперь вычислим доверительный интервал. Для это просто возьмем 2.5 и 97.5 процентили:"
   ]
  },
  {
   "cell_type": "code",
   "metadata": {},
   "source": [
    "print(np.percentile(sample_mean_ratio, 2.5), np.percentile(sample_mean_ratio, 97.5))"
   ],
   "outputs": [],
   "execution_count": null
  },
  {
   "cell_type": "markdown",
   "metadata": {},
   "source": [
    "В этих значениях лежит реальный прирост среднего чека при масштабировании эксперимента на всю аудиторию."
   ]
  }
 ],
 "metadata": {
  "kernelspec": {
   "display_name": "Python 3",
   "language": "python",
   "name": "python3"
  },
  "language_info": {
   "codemirror_mode": {
    "name": "ipython",
    "version": 3
   },
   "file_extension": ".py",
   "mimetype": "text/x-python",
   "name": "python",
   "nbconvert_exporter": "python",
   "pygments_lexer": "ipython3",
   "version": "3.12.0"
  }
 },
 "nbformat": 4,
 "nbformat_minor": 2
}
