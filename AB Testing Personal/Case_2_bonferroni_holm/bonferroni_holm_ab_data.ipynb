{
 "cells": [
  {
   "cell_type": "code",
   "metadata": {
    "ExecuteTime": {
     "end_time": "2024-04-16T18:41:06.468595Z",
     "start_time": "2024-04-16T18:41:06.175741Z"
    }
   },
   "source": [
    "import pandas as pd\n",
    "import numpy as np"
   ],
   "outputs": [],
   "execution_count": 1
  },
  {
   "cell_type": "code",
   "metadata": {
    "ExecuteTime": {
     "end_time": "2024-04-16T18:41:07.030831Z",
     "start_time": "2024-04-16T18:41:06.470309Z"
    }
   },
   "source": [
    "df = pd.read_csv('bonferroni_holm_ab_data.csv')"
   ],
   "outputs": [],
   "execution_count": 2
  },
  {
   "cell_type": "code",
   "metadata": {
    "ExecuteTime": {
     "end_time": "2024-04-16T18:41:07.040297Z",
     "start_time": "2024-04-16T18:41:07.031623Z"
    }
   },
   "source": [
    "df"
   ],
   "outputs": [
    {
     "data": {
      "text/plain": [
       "       end_result       game      game_id  period  \\\n",
       "0       106 - 114  PHX - LAL  261031013.0     1.0   \n",
       "1       106 - 114  PHX - LAL  261031013.0     1.0   \n",
       "2       106 - 114  PHX - LAL  261031013.0     1.0   \n",
       "3       106 - 114  PHX - LAL  261031013.0     1.0   \n",
       "4       106 - 114  PHX - LAL  261031013.0     1.0   \n",
       "...           ...        ...          ...     ...   \n",
       "618014  104 - 118  DAL - OKC  400874368.0     4.0   \n",
       "618015  104 - 118  DAL - OKC  400874368.0     4.0   \n",
       "618016  104 - 118  DAL - OKC  400874368.0     4.0   \n",
       "618017  104 - 118  DAL - OKC  400874368.0     4.0   \n",
       "618018  104 - 118  DAL - OKC  400874368.0     4.0   \n",
       "\n",
       "                                           play         player  playoffs  \\\n",
       "0          Andrew Bynum makes free throw 1 of 2   Andrew Bynum   regular   \n",
       "1          Andrew Bynum makes free throw 2 of 2   Andrew Bynum   regular   \n",
       "2          Andrew Bynum makes free throw 1 of 2   Andrew Bynum   regular   \n",
       "3         Andrew Bynum misses free throw 2 of 2   Andrew Bynum   regular   \n",
       "4          Shawn Marion makes free throw 1 of 1   Shawn Marion   regular   \n",
       "...                                         ...            ...       ...   \n",
       "618014       Randy Foye makes free throw 1 of 2     Randy Foye  playoffs   \n",
       "618015       Randy Foye makes free throw 2 of 2     Randy Foye  playoffs   \n",
       "618016  Kevin Durant makes technical free throw   Kevin Durant  playoffs   \n",
       "618017   Dwight Powell misses free throw 1 of 2  Dwight Powell  playoffs   \n",
       "618018    Dwight Powell makes free throw 2 of 2  Dwight Powell  playoffs   \n",
       "\n",
       "            score       season  shot_made   time  \n",
       "0           0 - 1  2006 - 2007          1  11:45  \n",
       "1           0 - 2  2006 - 2007          1  11:45  \n",
       "2         18 - 12  2006 - 2007          1   7:26  \n",
       "3         18 - 12  2006 - 2007          0   7:26  \n",
       "4         21 - 12  2006 - 2007          1   7:18  \n",
       "...           ...          ...        ...    ...  \n",
       "618014  103 - 116  2015 - 2016          1   0:53  \n",
       "618015  103 - 117  2015 - 2016          1   0:53  \n",
       "618016  103 - 118  2015 - 2016          1   0:27  \n",
       "618017  103 - 118  2015 - 2016          0   0:26  \n",
       "618018  104 - 118  2015 - 2016          1   0:26  \n",
       "\n",
       "[618019 rows x 11 columns]"
      ],
      "text/html": [
       "<div>\n",
       "<style scoped>\n",
       "    .dataframe tbody tr th:only-of-type {\n",
       "        vertical-align: middle;\n",
       "    }\n",
       "\n",
       "    .dataframe tbody tr th {\n",
       "        vertical-align: top;\n",
       "    }\n",
       "\n",
       "    .dataframe thead th {\n",
       "        text-align: right;\n",
       "    }\n",
       "</style>\n",
       "<table border=\"1\" class=\"dataframe\">\n",
       "  <thead>\n",
       "    <tr style=\"text-align: right;\">\n",
       "      <th></th>\n",
       "      <th>end_result</th>\n",
       "      <th>game</th>\n",
       "      <th>game_id</th>\n",
       "      <th>period</th>\n",
       "      <th>play</th>\n",
       "      <th>player</th>\n",
       "      <th>playoffs</th>\n",
       "      <th>score</th>\n",
       "      <th>season</th>\n",
       "      <th>shot_made</th>\n",
       "      <th>time</th>\n",
       "    </tr>\n",
       "  </thead>\n",
       "  <tbody>\n",
       "    <tr>\n",
       "      <th>0</th>\n",
       "      <td>106 - 114</td>\n",
       "      <td>PHX - LAL</td>\n",
       "      <td>261031013.0</td>\n",
       "      <td>1.0</td>\n",
       "      <td>Andrew Bynum makes free throw 1 of 2</td>\n",
       "      <td>Andrew Bynum</td>\n",
       "      <td>regular</td>\n",
       "      <td>0 - 1</td>\n",
       "      <td>2006 - 2007</td>\n",
       "      <td>1</td>\n",
       "      <td>11:45</td>\n",
       "    </tr>\n",
       "    <tr>\n",
       "      <th>1</th>\n",
       "      <td>106 - 114</td>\n",
       "      <td>PHX - LAL</td>\n",
       "      <td>261031013.0</td>\n",
       "      <td>1.0</td>\n",
       "      <td>Andrew Bynum makes free throw 2 of 2</td>\n",
       "      <td>Andrew Bynum</td>\n",
       "      <td>regular</td>\n",
       "      <td>0 - 2</td>\n",
       "      <td>2006 - 2007</td>\n",
       "      <td>1</td>\n",
       "      <td>11:45</td>\n",
       "    </tr>\n",
       "    <tr>\n",
       "      <th>2</th>\n",
       "      <td>106 - 114</td>\n",
       "      <td>PHX - LAL</td>\n",
       "      <td>261031013.0</td>\n",
       "      <td>1.0</td>\n",
       "      <td>Andrew Bynum makes free throw 1 of 2</td>\n",
       "      <td>Andrew Bynum</td>\n",
       "      <td>regular</td>\n",
       "      <td>18 - 12</td>\n",
       "      <td>2006 - 2007</td>\n",
       "      <td>1</td>\n",
       "      <td>7:26</td>\n",
       "    </tr>\n",
       "    <tr>\n",
       "      <th>3</th>\n",
       "      <td>106 - 114</td>\n",
       "      <td>PHX - LAL</td>\n",
       "      <td>261031013.0</td>\n",
       "      <td>1.0</td>\n",
       "      <td>Andrew Bynum misses free throw 2 of 2</td>\n",
       "      <td>Andrew Bynum</td>\n",
       "      <td>regular</td>\n",
       "      <td>18 - 12</td>\n",
       "      <td>2006 - 2007</td>\n",
       "      <td>0</td>\n",
       "      <td>7:26</td>\n",
       "    </tr>\n",
       "    <tr>\n",
       "      <th>4</th>\n",
       "      <td>106 - 114</td>\n",
       "      <td>PHX - LAL</td>\n",
       "      <td>261031013.0</td>\n",
       "      <td>1.0</td>\n",
       "      <td>Shawn Marion makes free throw 1 of 1</td>\n",
       "      <td>Shawn Marion</td>\n",
       "      <td>regular</td>\n",
       "      <td>21 - 12</td>\n",
       "      <td>2006 - 2007</td>\n",
       "      <td>1</td>\n",
       "      <td>7:18</td>\n",
       "    </tr>\n",
       "    <tr>\n",
       "      <th>...</th>\n",
       "      <td>...</td>\n",
       "      <td>...</td>\n",
       "      <td>...</td>\n",
       "      <td>...</td>\n",
       "      <td>...</td>\n",
       "      <td>...</td>\n",
       "      <td>...</td>\n",
       "      <td>...</td>\n",
       "      <td>...</td>\n",
       "      <td>...</td>\n",
       "      <td>...</td>\n",
       "    </tr>\n",
       "    <tr>\n",
       "      <th>618014</th>\n",
       "      <td>104 - 118</td>\n",
       "      <td>DAL - OKC</td>\n",
       "      <td>400874368.0</td>\n",
       "      <td>4.0</td>\n",
       "      <td>Randy Foye makes free throw 1 of 2</td>\n",
       "      <td>Randy Foye</td>\n",
       "      <td>playoffs</td>\n",
       "      <td>103 - 116</td>\n",
       "      <td>2015 - 2016</td>\n",
       "      <td>1</td>\n",
       "      <td>0:53</td>\n",
       "    </tr>\n",
       "    <tr>\n",
       "      <th>618015</th>\n",
       "      <td>104 - 118</td>\n",
       "      <td>DAL - OKC</td>\n",
       "      <td>400874368.0</td>\n",
       "      <td>4.0</td>\n",
       "      <td>Randy Foye makes free throw 2 of 2</td>\n",
       "      <td>Randy Foye</td>\n",
       "      <td>playoffs</td>\n",
       "      <td>103 - 117</td>\n",
       "      <td>2015 - 2016</td>\n",
       "      <td>1</td>\n",
       "      <td>0:53</td>\n",
       "    </tr>\n",
       "    <tr>\n",
       "      <th>618016</th>\n",
       "      <td>104 - 118</td>\n",
       "      <td>DAL - OKC</td>\n",
       "      <td>400874368.0</td>\n",
       "      <td>4.0</td>\n",
       "      <td>Kevin Durant makes technical free throw</td>\n",
       "      <td>Kevin Durant</td>\n",
       "      <td>playoffs</td>\n",
       "      <td>103 - 118</td>\n",
       "      <td>2015 - 2016</td>\n",
       "      <td>1</td>\n",
       "      <td>0:27</td>\n",
       "    </tr>\n",
       "    <tr>\n",
       "      <th>618017</th>\n",
       "      <td>104 - 118</td>\n",
       "      <td>DAL - OKC</td>\n",
       "      <td>400874368.0</td>\n",
       "      <td>4.0</td>\n",
       "      <td>Dwight Powell misses free throw 1 of 2</td>\n",
       "      <td>Dwight Powell</td>\n",
       "      <td>playoffs</td>\n",
       "      <td>103 - 118</td>\n",
       "      <td>2015 - 2016</td>\n",
       "      <td>0</td>\n",
       "      <td>0:26</td>\n",
       "    </tr>\n",
       "    <tr>\n",
       "      <th>618018</th>\n",
       "      <td>104 - 118</td>\n",
       "      <td>DAL - OKC</td>\n",
       "      <td>400874368.0</td>\n",
       "      <td>4.0</td>\n",
       "      <td>Dwight Powell makes free throw 2 of 2</td>\n",
       "      <td>Dwight Powell</td>\n",
       "      <td>playoffs</td>\n",
       "      <td>104 - 118</td>\n",
       "      <td>2015 - 2016</td>\n",
       "      <td>1</td>\n",
       "      <td>0:26</td>\n",
       "    </tr>\n",
       "  </tbody>\n",
       "</table>\n",
       "<p>618019 rows × 11 columns</p>\n",
       "</div>"
      ]
     },
     "execution_count": 3,
     "metadata": {},
     "output_type": "execute_result"
    }
   ],
   "execution_count": 3
  },
  {
   "cell_type": "markdown",
   "metadata": {},
   "source": [
    "Напишем функцию которая создаст отдельный датафрейм в котором будем записывать для каждого игрока его среднюю результативность (среднюю долю) попаданий во время регулярного чемпионата и playoff, а так же p-value"
   ]
  },
  {
   "cell_type": "code",
   "metadata": {
    "ExecuteTime": {
     "end_time": "2024-04-16T18:41:07.379992Z",
     "start_time": "2024-04-16T18:41:07.040891Z"
    }
   },
   "source": [
    "from statsmodels.stats.weightstats import ztest"
   ],
   "outputs": [],
   "execution_count": 4
  },
  {
   "cell_type": "code",
   "metadata": {
    "ExecuteTime": {
     "end_time": "2024-04-16T18:41:07.383621Z",
     "start_time": "2024-04-16T18:41:07.381583Z"
    }
   },
   "source": [
    "# Создаем пустой датафрейм:\n",
    "new_df = {\n",
    "    'player': [],\n",
    "    'regular_mean': [],\n",
    "    'playoff_mean': [],\n",
    "    'p_value': []\n",
    "}"
   ],
   "outputs": [],
   "execution_count": 5
  },
  {
   "cell_type": "code",
   "metadata": {
    "ExecuteTime": {
     "end_time": "2024-04-16T18:41:07.781392Z",
     "start_time": "2024-04-16T18:41:07.384276Z"
    }
   },
   "source": [
    "# Создаем цикл:\n",
    "for player, group in df.groupby('player'):\n",
    "    regular_shots = group[group['playoffs'] == 'regular']['shot_made'].values\n",
    "    playoff_shots = group[group['playoffs'] == 'playoffs']['shot_made'].values\n",
    "\n",
    "    if len(regular_shots) < 30 or len(playoff_shots) < 30:\n",
    "        continue\n",
    "\n",
    "    statistic, p_value = ztest(regular_shots, playoff_shots)\n",
    "\n",
    "    new_df['player'].append(player)\n",
    "    new_df['regular_mean'].append(np.mean(regular_shots))\n",
    "    new_df['playoff_mean'].append(np.mean(playoff_shots))\n",
    "    new_df['p_value'].append(p_value)"
   ],
   "outputs": [],
   "execution_count": 6
  },
  {
   "cell_type": "markdown",
   "metadata": {},
   "source": [
    "переводим получившийся результат в датафрейм"
   ]
  },
  {
   "cell_type": "code",
   "metadata": {
    "ExecuteTime": {
     "end_time": "2024-04-16T18:41:07.789711Z",
     "start_time": "2024-04-16T18:41:07.784255Z"
    }
   },
   "source": [
    "new_df = pd.DataFrame(new_df)"
   ],
   "outputs": [],
   "execution_count": 7
  },
  {
   "cell_type": "markdown",
   "metadata": {},
   "source": [
    "посмотрим на 10 случайныйх игроков в новом датафрейме"
   ]
  },
  {
   "cell_type": "code",
   "metadata": {
    "ExecuteTime": {
     "end_time": "2024-04-16T18:41:07.800521Z",
     "start_time": "2024-04-16T18:41:07.792568Z"
    }
   },
   "source": [
    "new_df.sample(10)"
   ],
   "outputs": [
    {
     "data": {
      "text/plain": [
       "              player  regular_mean  playoff_mean   p_value\n",
       "97       Ian Mahinmi      0.597627      0.607595  0.862398\n",
       "81       Enes Kanter      0.763476      0.826087  0.327711\n",
       "106      James Jones      0.843091      0.888889  0.289811\n",
       "33       Brandon Roy      0.800587      0.808824  0.867596\n",
       "17     Anthony Davis      0.779705      0.888889  0.116581\n",
       "210    Rashard Lewis      0.821342      0.788043  0.275866\n",
       "157  Leandro Barbosa      0.830808      0.728000  0.004251\n",
       "52     D.J. Augustin      0.867177      0.839286  0.547825\n",
       "79          Ed Davis      0.562997      0.578947  0.846240\n",
       "201      Paul George      0.837629      0.797753  0.070627"
      ],
      "text/html": [
       "<div>\n",
       "<style scoped>\n",
       "    .dataframe tbody tr th:only-of-type {\n",
       "        vertical-align: middle;\n",
       "    }\n",
       "\n",
       "    .dataframe tbody tr th {\n",
       "        vertical-align: top;\n",
       "    }\n",
       "\n",
       "    .dataframe thead th {\n",
       "        text-align: right;\n",
       "    }\n",
       "</style>\n",
       "<table border=\"1\" class=\"dataframe\">\n",
       "  <thead>\n",
       "    <tr style=\"text-align: right;\">\n",
       "      <th></th>\n",
       "      <th>player</th>\n",
       "      <th>regular_mean</th>\n",
       "      <th>playoff_mean</th>\n",
       "      <th>p_value</th>\n",
       "    </tr>\n",
       "  </thead>\n",
       "  <tbody>\n",
       "    <tr>\n",
       "      <th>97</th>\n",
       "      <td>Ian Mahinmi</td>\n",
       "      <td>0.597627</td>\n",
       "      <td>0.607595</td>\n",
       "      <td>0.862398</td>\n",
       "    </tr>\n",
       "    <tr>\n",
       "      <th>81</th>\n",
       "      <td>Enes Kanter</td>\n",
       "      <td>0.763476</td>\n",
       "      <td>0.826087</td>\n",
       "      <td>0.327711</td>\n",
       "    </tr>\n",
       "    <tr>\n",
       "      <th>106</th>\n",
       "      <td>James Jones</td>\n",
       "      <td>0.843091</td>\n",
       "      <td>0.888889</td>\n",
       "      <td>0.289811</td>\n",
       "    </tr>\n",
       "    <tr>\n",
       "      <th>33</th>\n",
       "      <td>Brandon Roy</td>\n",
       "      <td>0.800587</td>\n",
       "      <td>0.808824</td>\n",
       "      <td>0.867596</td>\n",
       "    </tr>\n",
       "    <tr>\n",
       "      <th>17</th>\n",
       "      <td>Anthony Davis</td>\n",
       "      <td>0.779705</td>\n",
       "      <td>0.888889</td>\n",
       "      <td>0.116581</td>\n",
       "    </tr>\n",
       "    <tr>\n",
       "      <th>210</th>\n",
       "      <td>Rashard Lewis</td>\n",
       "      <td>0.821342</td>\n",
       "      <td>0.788043</td>\n",
       "      <td>0.275866</td>\n",
       "    </tr>\n",
       "    <tr>\n",
       "      <th>157</th>\n",
       "      <td>Leandro Barbosa</td>\n",
       "      <td>0.830808</td>\n",
       "      <td>0.728000</td>\n",
       "      <td>0.004251</td>\n",
       "    </tr>\n",
       "    <tr>\n",
       "      <th>52</th>\n",
       "      <td>D.J. Augustin</td>\n",
       "      <td>0.867177</td>\n",
       "      <td>0.839286</td>\n",
       "      <td>0.547825</td>\n",
       "    </tr>\n",
       "    <tr>\n",
       "      <th>79</th>\n",
       "      <td>Ed Davis</td>\n",
       "      <td>0.562997</td>\n",
       "      <td>0.578947</td>\n",
       "      <td>0.846240</td>\n",
       "    </tr>\n",
       "    <tr>\n",
       "      <th>201</th>\n",
       "      <td>Paul George</td>\n",
       "      <td>0.837629</td>\n",
       "      <td>0.797753</td>\n",
       "      <td>0.070627</td>\n",
       "    </tr>\n",
       "  </tbody>\n",
       "</table>\n",
       "</div>"
      ]
     },
     "execution_count": 8,
     "metadata": {},
     "output_type": "execute_result"
    }
   ],
   "execution_count": 8
  },
  {
   "cell_type": "markdown",
   "metadata": {},
   "source": [
    "посмотрим на кол-во игроков с p-value меньше 5%"
   ]
  },
  {
   "cell_type": "code",
   "metadata": {
    "ExecuteTime": {
     "end_time": "2024-04-16T18:41:07.811799Z",
     "start_time": "2024-04-16T18:41:07.801412Z"
    }
   },
   "source": [
    "new_df[new_df['p_value'] < 0.05].shape[0]"
   ],
   "outputs": [
    {
     "data": {
      "text/plain": [
       "22"
      ]
     },
     "execution_count": 9,
     "metadata": {},
     "output_type": "execute_result"
    }
   ],
   "execution_count": 9
  },
  {
   "cell_type": "markdown",
   "metadata": {},
   "source": [
    "Расчеты готовы, но нам необходимо сравнить их с поправкой Бонферрони и методом Холма"
   ]
  },
  {
   "cell_type": "code",
   "metadata": {
    "ExecuteTime": {
     "end_time": "2024-04-16T18:41:07.822317Z",
     "start_time": "2024-04-16T18:41:07.814138Z"
    }
   },
   "source": [
    "# Импортируем функцию для множественной проверки гипотез:\n",
    "from statsmodels.stats.multitest import multipletests"
   ],
   "outputs": [],
   "execution_count": 10
  },
  {
   "cell_type": "code",
   "metadata": {
    "ExecuteTime": {
     "end_time": "2024-04-16T18:41:07.853463Z",
     "start_time": "2024-04-16T18:41:07.823544Z"
    }
   },
   "source": [
    "# Сравниваем результаты:\n",
    "print(f'Bonferroni: {multipletests(new_df.p_value, alpha=0.05, method='bonferroni')[0].sum()}')\n",
    "print(f'Holm: {multipletests(new_df.p_value, alpha=0.05, method='holm')[0].sum()}')"
   ],
   "outputs": [
    {
     "name": "stdout",
     "output_type": "stream",
     "text": [
      "Bonferroni: 1\n",
      "Holm: 1\n"
     ]
    }
   ],
   "execution_count": 11
  },
  {
   "cell_type": "markdown",
   "metadata": {},
   "source": [
    "Видим что данной задаче 2 метода выдали один результат о колличестве игроков для которых стоит отвергнуть нулевую гипотизу. То есть тех у кого с 95% вероятностью отличается результативность во время плей-офф или регулярного чемпионата.\n",
    "\n",
    "Одна мы видим, на сколько данное число игроков отличается от того, что мы получили без поправок на множественную проверку гипотез.\n",
    "\n",
    "Так нам удалость кратно уменьшить ошибку первого рода"
   ]
  }
 ],
 "metadata": {
  "kernelspec": {
   "display_name": "Python 3",
   "language": "python",
   "name": "python3"
  },
  "language_info": {
   "codemirror_mode": {
    "name": "ipython",
    "version": 3
   },
   "file_extension": ".py",
   "mimetype": "text/x-python",
   "name": "python",
   "nbconvert_exporter": "python",
   "pygments_lexer": "ipython3",
   "version": "3.12.1"
  }
 },
 "nbformat": 4,
 "nbformat_minor": 2
}
